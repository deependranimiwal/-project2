{
 "cells": [
  {
   "cell_type": "markdown",
   "metadata": {},
   "source": [
    "# Titanic Data Analysis: Project 2\n",
    "\n",
    "\n",
    "## 1. Introduction\n",
    "### Purpose:  To perform data analysis on a sample Titanic dataset.\n",
    "This dataset contains demographics and passenger information from 891 of the 2224 passengers and crew on board the Titanic. You can view a description of this dataset on the Kaggle website, where the data was obtained (https://www.kaggle.com/c/titanic/data). Our purpose is to analyze this data to get interesting answers of some pertinent questions.\n",
    "\n",
    "## 2. Questions\n",
    "\n",
    "* Which social class had a better chance of survival?\n",
    "* Which gender had a better chance of survival?\n",
    "* Which age group had a better chance of survival?\n",
    "\n",
    "## 3. Data Description\n",
    "Following is the basic description of the dataset which is available at the source of the data.\n",
    "(from https://www.kaggle.com/c/titanic)<br />\n",
    "**survival:** Survival (0 = No; 1 = Yes)<br />\n",
    "**pclass:** Passenger Class (1 = 1st; 2 = 2nd; 3 = 3rd) <br />\n",
    "**name:** Name <br />\n",
    "**sex:** Sex <br />\n",
    "**age:** Age <br />\n",
    "**sibsp:** Number of Siblings/Spouses Aboard <br />\n",
    "**parch:** Number of Parents/Children Aboard <br />\n",
    "**ticket:** Ticket Number <br />\n",
    "**fare:** Passenger Fare <br />\n",
    "**cabin:** Cabin<br />\n",
    "**embarked:** Port of Embarkation (C = Cherbourg; Q = Queenstown; S = Southampton) <br /> "
   ]
  },
  {
   "cell_type": "markdown",
   "metadata": {},
   "source": [
    " ## 3. Data Overview\n",
    "  \n",
    "In order to analyze the data, first import the necessary libraries and data. I took an over view of the data to get a basic understanding of the data. In the following table you can see the head of the data.\n"
   ]
  },
  {
   "cell_type": "code",
   "execution_count": 108,
   "metadata": {
    "collapsed": false
   },
   "outputs": [
    {
     "data": {
      "text/html": [
       "<div>\n",
       "<table border=\"1\" class=\"dataframe\">\n",
       "  <thead>\n",
       "    <tr style=\"text-align: right;\">\n",
       "      <th></th>\n",
       "      <th>PassengerId</th>\n",
       "      <th>Survived</th>\n",
       "      <th>Pclass</th>\n",
       "      <th>Name</th>\n",
       "      <th>Sex</th>\n",
       "      <th>Age</th>\n",
       "      <th>SibSp</th>\n",
       "      <th>Parch</th>\n",
       "      <th>Ticket</th>\n",
       "      <th>Fare</th>\n",
       "      <th>Cabin</th>\n",
       "      <th>Embarked</th>\n",
       "    </tr>\n",
       "  </thead>\n",
       "  <tbody>\n",
       "    <tr>\n",
       "      <th>0</th>\n",
       "      <td>1</td>\n",
       "      <td>0</td>\n",
       "      <td>3</td>\n",
       "      <td>Braund, Mr. Owen Harris</td>\n",
       "      <td>male</td>\n",
       "      <td>22.0</td>\n",
       "      <td>1</td>\n",
       "      <td>0</td>\n",
       "      <td>A/5 21171</td>\n",
       "      <td>7.2500</td>\n",
       "      <td>NaN</td>\n",
       "      <td>S</td>\n",
       "    </tr>\n",
       "    <tr>\n",
       "      <th>1</th>\n",
       "      <td>2</td>\n",
       "      <td>1</td>\n",
       "      <td>1</td>\n",
       "      <td>Cumings, Mrs. John Bradley (Florence Briggs Th...</td>\n",
       "      <td>female</td>\n",
       "      <td>38.0</td>\n",
       "      <td>1</td>\n",
       "      <td>0</td>\n",
       "      <td>PC 17599</td>\n",
       "      <td>71.2833</td>\n",
       "      <td>C85</td>\n",
       "      <td>C</td>\n",
       "    </tr>\n",
       "    <tr>\n",
       "      <th>2</th>\n",
       "      <td>3</td>\n",
       "      <td>1</td>\n",
       "      <td>3</td>\n",
       "      <td>Heikkinen, Miss. Laina</td>\n",
       "      <td>female</td>\n",
       "      <td>26.0</td>\n",
       "      <td>0</td>\n",
       "      <td>0</td>\n",
       "      <td>STON/O2. 3101282</td>\n",
       "      <td>7.9250</td>\n",
       "      <td>NaN</td>\n",
       "      <td>S</td>\n",
       "    </tr>\n",
       "    <tr>\n",
       "      <th>3</th>\n",
       "      <td>4</td>\n",
       "      <td>1</td>\n",
       "      <td>1</td>\n",
       "      <td>Futrelle, Mrs. Jacques Heath (Lily May Peel)</td>\n",
       "      <td>female</td>\n",
       "      <td>35.0</td>\n",
       "      <td>1</td>\n",
       "      <td>0</td>\n",
       "      <td>113803</td>\n",
       "      <td>53.1000</td>\n",
       "      <td>C123</td>\n",
       "      <td>S</td>\n",
       "    </tr>\n",
       "    <tr>\n",
       "      <th>4</th>\n",
       "      <td>5</td>\n",
       "      <td>0</td>\n",
       "      <td>3</td>\n",
       "      <td>Allen, Mr. William Henry</td>\n",
       "      <td>male</td>\n",
       "      <td>35.0</td>\n",
       "      <td>0</td>\n",
       "      <td>0</td>\n",
       "      <td>373450</td>\n",
       "      <td>8.0500</td>\n",
       "      <td>NaN</td>\n",
       "      <td>S</td>\n",
       "    </tr>\n",
       "  </tbody>\n",
       "</table>\n",
       "</div>"
      ],
      "text/plain": [
       "   PassengerId  Survived  Pclass  \\\n",
       "0            1         0       3   \n",
       "1            2         1       1   \n",
       "2            3         1       3   \n",
       "3            4         1       1   \n",
       "4            5         0       3   \n",
       "\n",
       "                                                Name     Sex   Age  SibSp  \\\n",
       "0                            Braund, Mr. Owen Harris    male  22.0      1   \n",
       "1  Cumings, Mrs. John Bradley (Florence Briggs Th...  female  38.0      1   \n",
       "2                             Heikkinen, Miss. Laina  female  26.0      0   \n",
       "3       Futrelle, Mrs. Jacques Heath (Lily May Peel)  female  35.0      1   \n",
       "4                           Allen, Mr. William Henry    male  35.0      0   \n",
       "\n",
       "   Parch            Ticket     Fare Cabin Embarked  \n",
       "0      0         A/5 21171   7.2500   NaN        S  \n",
       "1      0          PC 17599  71.2833   C85        C  \n",
       "2      0  STON/O2. 3101282   7.9250   NaN        S  \n",
       "3      0            113803  53.1000  C123        S  \n",
       "4      0            373450   8.0500   NaN        S  "
      ]
     },
     "execution_count": 108,
     "metadata": {},
     "output_type": "execute_result"
    }
   ],
   "source": [
    "# import libraries\n",
    "import pandas as pd\n",
    "import numpy as np\n",
    "import matplotlib.pyplot as plt\n",
    "import scipy.stats as sp\n",
    "import warnings\n",
    "#show the top 5 rows of the dataset.\n",
    "titanic_data = pd.read_csv('titanic-data.csv')\n",
    "titanic_data.head()"
   ]
  },
  {
   "cell_type": "markdown",
   "metadata": {},
   "source": [
    "##  4. Data Cleaning\n",
    "\n",
    "\n",
    "After taking an overview, I can see that there are some NaN values in the data, I used following 3 steps to clean the data for further analysis.\n",
    " * Identify and remove any duplicate entries \n",
    " * Remove unnecessary columns\n",
    " * Fix missing and data format issues"
   ]
  },
  {
   "cell_type": "markdown",
   "metadata": {},
   "source": [
    "### 4.1 Identify and remove any duplicate entries\n",
    "The following code shows there are none duplicate values in our data."
   ]
  },
  {
   "cell_type": "code",
   "execution_count": 109,
   "metadata": {
    "collapsed": false
   },
   "outputs": [
    {
     "name": "stdout",
     "output_type": "stream",
     "text": [
      "Number of duplicate entries is/are 0\n"
     ]
    }
   ],
   "source": [
    "#check for duplicates\n",
    "titanic_data_duplicates = titanic_data.duplicated()\n",
    "print 'Number of duplicate entries is/are {}'.format(titanic_data_duplicates.sum())"
   ]
  },
  {
   "cell_type": "markdown",
   "metadata": {},
   "source": [
    "### 4.2 Remove unnecessary columns\n",
    "I removed columns like PassengerId, Name, Ticket, Cabin, Fare and Embarked. As they are not required for my analysis.\n",
    "Removing  unnecessary columns also help us for faster processing of our data.\n",
    " \n"
   ]
  },
  {
   "cell_type": "code",
   "execution_count": 110,
   "metadata": {
    "collapsed": false
   },
   "outputs": [
    {
     "data": {
      "text/html": [
       "<div>\n",
       "<table border=\"1\" class=\"dataframe\">\n",
       "  <thead>\n",
       "    <tr style=\"text-align: right;\">\n",
       "      <th></th>\n",
       "      <th>Survived</th>\n",
       "      <th>Pclass</th>\n",
       "      <th>Sex</th>\n",
       "      <th>Age</th>\n",
       "      <th>SibSp</th>\n",
       "      <th>Parch</th>\n",
       "    </tr>\n",
       "  </thead>\n",
       "  <tbody>\n",
       "    <tr>\n",
       "      <th>0</th>\n",
       "      <td>0</td>\n",
       "      <td>3</td>\n",
       "      <td>male</td>\n",
       "      <td>22.0</td>\n",
       "      <td>1</td>\n",
       "      <td>0</td>\n",
       "    </tr>\n",
       "    <tr>\n",
       "      <th>1</th>\n",
       "      <td>1</td>\n",
       "      <td>1</td>\n",
       "      <td>female</td>\n",
       "      <td>38.0</td>\n",
       "      <td>1</td>\n",
       "      <td>0</td>\n",
       "    </tr>\n",
       "    <tr>\n",
       "      <th>2</th>\n",
       "      <td>1</td>\n",
       "      <td>3</td>\n",
       "      <td>female</td>\n",
       "      <td>26.0</td>\n",
       "      <td>0</td>\n",
       "      <td>0</td>\n",
       "    </tr>\n",
       "    <tr>\n",
       "      <th>3</th>\n",
       "      <td>1</td>\n",
       "      <td>1</td>\n",
       "      <td>female</td>\n",
       "      <td>35.0</td>\n",
       "      <td>1</td>\n",
       "      <td>0</td>\n",
       "    </tr>\n",
       "    <tr>\n",
       "      <th>4</th>\n",
       "      <td>0</td>\n",
       "      <td>3</td>\n",
       "      <td>male</td>\n",
       "      <td>35.0</td>\n",
       "      <td>0</td>\n",
       "      <td>0</td>\n",
       "    </tr>\n",
       "  </tbody>\n",
       "</table>\n",
       "</div>"
      ],
      "text/plain": [
       "   Survived  Pclass     Sex   Age  SibSp  Parch\n",
       "0         0       3    male  22.0      1      0\n",
       "1         1       1  female  38.0      1      0\n",
       "2         1       3  female  26.0      0      0\n",
       "3         1       1  female  35.0      1      0\n",
       "4         0       3    male  35.0      0      0"
      ]
     },
     "execution_count": 110,
     "metadata": {},
     "output_type": "execute_result"
    }
   ],
   "source": [
    "# Create new dataset without unwanted columns\n",
    "titanic_data_cleaned = titanic_data.drop(['PassengerId','Name','Ticket','Fare','Embarked', 'Cabin'], axis=1)\n",
    "titanic_data_cleaned.head()"
   ]
  },
  {
   "cell_type": "markdown",
   "metadata": {},
   "source": [
    "### 4.3 Fix missing and data format issues\n",
    "In the following table, We can see Nan values in each columns. I remove all rows containing NaN values."
   ]
  },
  {
   "cell_type": "code",
   "execution_count": 111,
   "metadata": {
    "collapsed": false
   },
   "outputs": [
    {
     "data": {
      "text/plain": [
       "Survived      0\n",
       "Pclass        0\n",
       "Sex           0\n",
       "Age         177\n",
       "SibSp         0\n",
       "Parch         0\n",
       "dtype: int64"
      ]
     },
     "execution_count": 111,
     "metadata": {},
     "output_type": "execute_result"
    }
   ],
   "source": [
    "#Calculate number of missing values\n",
    "titanic_data_cleaned.isnull().sum()"
   ]
  },
  {
   "cell_type": "code",
   "execution_count": 112,
   "metadata": {
    "collapsed": false
   },
   "outputs": [
    {
     "data": {
      "text/html": [
       "<div>\n",
       "<table border=\"1\" class=\"dataframe\">\n",
       "  <thead>\n",
       "    <tr style=\"text-align: right;\">\n",
       "      <th></th>\n",
       "      <th>Survived</th>\n",
       "      <th>Pclass</th>\n",
       "      <th>Sex</th>\n",
       "      <th>Age</th>\n",
       "      <th>SibSp</th>\n",
       "      <th>Parch</th>\n",
       "    </tr>\n",
       "  </thead>\n",
       "  <tbody>\n",
       "    <tr>\n",
       "      <th>5</th>\n",
       "      <td>0</td>\n",
       "      <td>3</td>\n",
       "      <td>male</td>\n",
       "      <td>NaN</td>\n",
       "      <td>0</td>\n",
       "      <td>0</td>\n",
       "    </tr>\n",
       "    <tr>\n",
       "      <th>17</th>\n",
       "      <td>1</td>\n",
       "      <td>2</td>\n",
       "      <td>male</td>\n",
       "      <td>NaN</td>\n",
       "      <td>0</td>\n",
       "      <td>0</td>\n",
       "    </tr>\n",
       "    <tr>\n",
       "      <th>19</th>\n",
       "      <td>1</td>\n",
       "      <td>3</td>\n",
       "      <td>female</td>\n",
       "      <td>NaN</td>\n",
       "      <td>0</td>\n",
       "      <td>0</td>\n",
       "    </tr>\n",
       "    <tr>\n",
       "      <th>26</th>\n",
       "      <td>0</td>\n",
       "      <td>3</td>\n",
       "      <td>male</td>\n",
       "      <td>NaN</td>\n",
       "      <td>0</td>\n",
       "      <td>0</td>\n",
       "    </tr>\n",
       "    <tr>\n",
       "      <th>28</th>\n",
       "      <td>1</td>\n",
       "      <td>3</td>\n",
       "      <td>female</td>\n",
       "      <td>NaN</td>\n",
       "      <td>0</td>\n",
       "      <td>0</td>\n",
       "    </tr>\n",
       "  </tbody>\n",
       "</table>\n",
       "</div>"
      ],
      "text/plain": [
       "    Survived  Pclass     Sex  Age  SibSp  Parch\n",
       "5          0       3    male  NaN      0      0\n",
       "17         1       2    male  NaN      0      0\n",
       "19         1       3  female  NaN      0      0\n",
       "26         0       3    male  NaN      0      0\n",
       "28         1       3  female  NaN      0      0"
      ]
     },
     "execution_count": 112,
     "metadata": {},
     "output_type": "execute_result"
    }
   ],
   "source": [
    "#Checking the missing values\n",
    "missing_age_bool = pd.isnull(titanic_data_cleaned['Age'])\n",
    "titanic_data_cleaned[missing_age_bool].head()"
   ]
  },
  {
   "cell_type": "code",
   "execution_count": 113,
   "metadata": {
    "collapsed": false
   },
   "outputs": [
    {
     "name": "stdout",
     "output_type": "stream",
     "text": [
      "<class 'pandas.core.frame.DataFrame'>\n",
      "RangeIndex: 891 entries, 0 to 890\n",
      "Data columns (total 6 columns):\n",
      "Survived    891 non-null int64\n",
      "Pclass      891 non-null int64\n",
      "Sex         891 non-null object\n",
      "Age         714 non-null float64\n",
      "SibSp       891 non-null int64\n",
      "Parch       891 non-null int64\n",
      "dtypes: float64(1), int64(4), object(1)\n",
      "memory usage: 41.8+ KB\n"
     ]
    }
   ],
   "source": [
    "# checking info of the data.\n",
    "titanic_data_cleaned.info()"
   ]
  },
  {
   "cell_type": "code",
   "execution_count": 114,
   "metadata": {
    "collapsed": false
   },
   "outputs": [
    {
     "name": "stdout",
     "output_type": "stream",
     "text": [
      "<class 'pandas.core.frame.DataFrame'>\n",
      "Int64Index: 714 entries, 0 to 890\n",
      "Data columns (total 6 columns):\n",
      "Survived    714 non-null int64\n",
      "Pclass      714 non-null int64\n",
      "Sex         714 non-null object\n",
      "Age         714 non-null float64\n",
      "SibSp       714 non-null int64\n",
      "Parch       714 non-null int64\n",
      "dtypes: float64(1), int64(4), object(1)\n",
      "memory usage: 39.0+ KB\n"
     ]
    }
   ],
   "source": [
    "#drop all NaN rows.\n",
    "#We choose to drop all NaN values with respect to 'Age' for easy and simple analysis. \n",
    "titanic_data_cleaned_final = titanic_data_cleaned.dropna(axis=0, how='any', subset=['Age'])\n",
    "titanic_data_cleaned_final.info()"
   ]
  },
  {
   "cell_type": "code",
   "execution_count": 115,
   "metadata": {
    "collapsed": false
   },
   "outputs": [
    {
     "data": {
      "text/plain": [
       "Survived    0\n",
       "Pclass      0\n",
       "Sex         0\n",
       "Age         0\n",
       "SibSp       0\n",
       "Parch       0\n",
       "dtype: int64"
      ]
     },
     "execution_count": 115,
     "metadata": {},
     "output_type": "execute_result"
    }
   ],
   "source": [
    "#no NaN values left in Data.\n",
    "titanic_data_cleaned_final.isnull().sum()"
   ]
  },
  {
   "cell_type": "markdown",
   "metadata": {},
   "source": [
    "\n",
    "## 5. Which social class had a better chance of survival?\n",
    "\n",
    "\n",
    "As there were limited life boats in titanic, I analyzed if people who were rich or people who had high class ticket for titanic were given any preference while saving lives.\n",
    "\n",
    "* Class 1 : Upper\n",
    "* Class 2 : Medium\n",
    "* Class 3 : Lower"
   ]
  },
  {
   "cell_type": "code",
   "execution_count": 116,
   "metadata": {
    "collapsed": false
   },
   "outputs": [
    {
     "name": "stdout",
     "output_type": "stream",
     "text": [
      "290\n",
      "424\n"
     ]
    }
   ],
   "source": [
    "#let us check the sum of survivors and non survivors\n",
    "survivors_sum = (titanic_data_cleaned_final['Survived'] == 1).sum()\n",
    "print survivors_sum\n",
    "non_survivors_sum = (titanic_data_cleaned_final['Survived'] == 0).sum()\n",
    "print non_survivors_sum"
   ]
  },
  {
   "cell_type": "code",
   "execution_count": 117,
   "metadata": {
    "collapsed": false
   },
   "outputs": [
    {
     "name": "stdout",
     "output_type": "stream",
     "text": [
      "Pclass\n",
      "1    122\n",
      "2     83\n",
      "3     85\n",
      "Name: Survived, dtype: int64\n",
      "Pclass\n",
      "1    186\n",
      "2    173\n",
      "3    355\n",
      "Name: Survived, dtype: int64\n"
     ]
    }
   ],
   "source": [
    "#we also make new variables for survivors and non survivors per class\n",
    "survivor_class = titanic_data_cleaned_final.groupby('Pclass').Survived.sum()\n",
    "print survivor_class\n",
    "total_class = titanic_data_cleaned_final.groupby('Pclass').Survived.count()\n",
    "print total_class"
   ]
  },
  {
   "cell_type": "code",
   "execution_count": 137,
   "metadata": {
    "collapsed": false
   },
   "outputs": [
    {
     "data": {
      "image/png": "[encoded data removed]",
      "text/plain": [
       "<matplotlib.figure.Figure at 0xd7b8470>"
      ]
     },
     "metadata": {},
     "output_type": "display_data"
    }
   ],
   "source": [
    "# data to plot\n",
    "n_groups = 3\n",
    "\n",
    "# create plot\n",
    "fig, ax = plt.subplots()\n",
    "index = np.arange(n_groups)\n",
    "bar_width = 0.35\n",
    "opacity = 0.3\n",
    " \n",
    "rects1 = plt.bar(index, total_class, bar_width,\n",
    "                 alpha=opacity,\n",
    "                 color='b',\n",
    "                 label='Total')\n",
    " \n",
    "rects2 = plt.bar(index + bar_width, survivor_class, bar_width,\n",
    "                 alpha=opacity,\n",
    "                 color='g',\n",
    "                 label='Survived')\n",
    "\n",
    "plt.ylabel('People')\n",
    "plt.title('People survived per class')\n",
    "plt.xticks(index + bar_width, ('Class1', 'Class2', 'Class3'))\n",
    "plt.legend()\n",
    "\n",
    "plt.show()"
   ]
  },
  {
   "cell_type": "markdown",
   "metadata": {},
   "source": [
    "**We notice how class 3 people being highest in number, they survived lowest.**"
   ]
  },
  {
   "cell_type": "code",
   "execution_count": 119,
   "metadata": {
    "collapsed": false
   },
   "outputs": [
    {
     "name": "stdout",
     "output_type": "stream",
     "text": [
      "Pclass      1   2    3\n",
      "Survived              \n",
      "0          64  90  270\n",
      "1         122  83   85\n"
     ]
    }
   ],
   "source": [
    "survived_class = pd.crosstab(titanic_data_cleaned_final['Survived'],titanic_data_cleaned_final['Pclass'])\n",
    "print survived_class"
   ]
  },
  {
   "cell_type": "code",
   "execution_count": 120,
   "metadata": {
    "collapsed": false
   },
   "outputs": [
    {
     "data": {
      "image/png": "[encoded data removed]",
      "text/plain": [
       "<matplotlib.figure.Figure at 0xbd13320>"
      ]
     },
     "metadata": {},
     "output_type": "display_data"
    }
   ],
   "source": [
    "#another plot to get a clear picture.\n",
    "survived_class.plot(kind='bar',stacked=True, alpha= 0.3)\n",
    "plt.title(\"Class Distribution of Survivors \",fontsize=14)\n",
    "plt.ylabel('Count')\n",
    "plt.xlabel('');\n",
    "plt.xticks(rotation='horizontal')\n",
    "plt.show()"
   ]
  },
  {
   "cell_type": "code",
   "execution_count": 121,
   "metadata": {
    "collapsed": false
   },
   "outputs": [
    {
     "name": "stdout",
     "output_type": "stream",
     "text": [
      "Pclass\n",
      "1    0.655914\n",
      "2    0.479769\n",
      "3    0.239437\n",
      "Name: Survived, dtype: float64\n"
     ]
    }
   ],
   "source": [
    "#mean survivor per class\n",
    "mean_class = titanic_data_cleaned_final.groupby('Pclass').Survived.mean()\n",
    "print mean_class"
   ]
  },
  {
   "cell_type": "code",
   "execution_count": 122,
   "metadata": {
    "collapsed": false
   },
   "outputs": [
    {
     "data": {
      "image/png": "[encoded data removed]",
      "text/plain": [
       "<matplotlib.figure.Figure at 0xcd7f320>"
      ]
     },
     "metadata": {},
     "output_type": "display_data"
    }
   ],
   "source": [
    "mean_class.plot(kind='bar',stacked=True, alpha= 0.3)\n",
    "plt.title(\"Mean Survival Per Class\",fontsize=14)\n",
    "plt.ylabel('Mean')\n",
    "plt.xlabel('Class');\n",
    "plt.xticks(rotation='horizontal')\n",
    "plt.show()\n"
   ]
  },
  {
   "cell_type": "markdown",
   "metadata": {},
   "source": [
    "** Mean plot do a clear depiction that upper class was favoured in saving lives. **"
   ]
  },
  {
   "cell_type": "markdown",
   "metadata": {
    "collapsed": false
   },
   "source": [
    "# 6. Which gender had a better chance of survival?\n",
    "\n",
    "Did any gender were given preference while saving lives? Let us look at the data with various plots to find our answer. "
   ]
  },
  {
   "cell_type": "code",
   "execution_count": 123,
   "metadata": {
    "collapsed": false
   },
   "outputs": [
    {
     "name": "stdout",
     "output_type": "stream",
     "text": [
      "Sex       female  male\n",
      "Survived              \n",
      "0             64   360\n",
      "1            197    93\n"
     ]
    }
   ],
   "source": [
    "#gender wise survivors and non survivors\n",
    "gender_survivors = pd.crosstab(titanic_data_cleaned_final['Survived'],titanic_data_cleaned_final['Sex'])\n",
    "print gender_survivors"
   ]
  },
  {
   "cell_type": "code",
   "execution_count": 124,
   "metadata": {
    "collapsed": false
   },
   "outputs": [
    {
     "data": {
      "image/png": "[encoded data removed]",
      "text/plain": [
       "<matplotlib.figure.Figure at 0xc469128>"
      ]
     },
     "metadata": {},
     "output_type": "display_data"
    }
   ],
   "source": [
    "n_groups = 2\n",
    "\n",
    "# create plot\n",
    "fig, ax = plt.subplots()\n",
    "index = np.arange(n_groups)\n",
    "bar_width = 0.35\n",
    "opacity = 0.3\n",
    " \n",
    "\n",
    "rects1 = plt.bar(index, gender_survivors['male'], bar_width,\n",
    "                 alpha=opacity,\n",
    "                 color='b',\n",
    "                 label='Male')\n",
    " \n",
    "rects2 = plt.bar(index + bar_width, gender_survivors['female'], bar_width,\n",
    "                 alpha=opacity,\n",
    "                 color='g',\n",
    "                 label='Female')\n",
    " \n",
    "plt.ylabel('Count')\n",
    "plt.title('Count of Dead and Alive as per gender')\n",
    "plt.xticks(index + bar_width, ('Dead', 'Alive'))\n",
    "plt.legend()\n",
    "\n",
    "plt.show()"
   ]
  },
  {
   "cell_type": "markdown",
   "metadata": {},
   "source": [
    "** We can see that female survivors are more than male, Also males died more than female**"
   ]
  },
  {
   "cell_type": "code",
   "execution_count": 125,
   "metadata": {
    "collapsed": false
   },
   "outputs": [
    {
     "data": {
      "image/png": "[encoded data removed]",
      "text/plain": [
       "<matplotlib.figure.Figure at 0xcc8a3c8>"
      ]
     },
     "metadata": {},
     "output_type": "display_data"
    }
   ],
   "source": [
    "#another plot for clear picture.\n",
    "gender_survivors.plot(kind='bar',stacked=True, alpha= 0.3)\n",
    "plt.title(\"Total Gender Survivors\",fontsize=14)\n",
    "plt.ylabel('Count')\n",
    "plt.xlabel('');\n",
    "plt.xticks(rotation='horizontal')\n",
    "plt.show()"
   ]
  },
  {
   "cell_type": "code",
   "execution_count": 126,
   "metadata": {
    "collapsed": false
   },
   "outputs": [
    {
     "name": "stdout",
     "output_type": "stream",
     "text": [
      "Sex\n",
      "female    0.754789\n",
      "male      0.205298\n",
      "Name: Survived, dtype: float64\n"
     ]
    }
   ],
   "source": [
    "#let us check the mean survivors per gender\n",
    "gender_mean = titanic_data_cleaned_final.groupby('Sex').Survived.mean()\n",
    "print gender_mean"
   ]
  },
  {
   "cell_type": "code",
   "execution_count": 127,
   "metadata": {
    "collapsed": false
   },
   "outputs": [
    {
     "data": {
      "image/png": "[encoded data removed]",
      "text/plain": [
       "<matplotlib.figure.Figure at 0xbf7ae10>"
      ]
     },
     "metadata": {},
     "output_type": "display_data"
    }
   ],
   "source": [
    "gender_mean.plot(kind='bar',stacked=True, alpha= 0.3)\n",
    "plt.title(\"Mean Survivors Per Gender\",fontsize=14)\n",
    "plt.ylabel('Mean')\n",
    "plt.xlabel('Gender');\n",
    "plt.xticks(rotation='horizontal')\n",
    "plt.show()"
   ]
  },
  {
   "cell_type": "markdown",
   "metadata": {},
   "source": [
    "** Above plot shows huge differnce between male and female survivors in mean. **"
   ]
  },
  {
   "cell_type": "markdown",
   "metadata": {},
   "source": [
    "# 7. Which age group had a better chance of survival?\n",
    "\n",
    "At the time of a catastrophe, Morally children are given a priority while saving lives. We look at this aspect while analyzing our data tha\n"
   ]
  },
  {
   "cell_type": "code",
   "execution_count": 128,
   "metadata": {
    "collapsed": false
   },
   "outputs": [
    {
     "name": "stdout",
     "output_type": "stream",
     "text": [
      "Age       0.42   0.67   0.75   0.83   0.92   1.00   2.00   3.00   4.00   \\\n",
      "Survived                                                                  \n",
      "0             0      0      0      0      0      2      7      1      3   \n",
      "1             1      1      2      2      1      5      3      5      7   \n",
      "\n",
      "Age       5.00   ...    62.00  63.00  64.00  65.00  66.00  70.00  70.50  \\\n",
      "Survived         ...                                                      \n",
      "0             0  ...        2      0      2      3      1      2      1   \n",
      "1             4  ...        2      2      0      0      0      0      0   \n",
      "\n",
      "Age       71.00  74.00  80.00  \n",
      "Survived                       \n",
      "0             2      1      0  \n",
      "1             0      0      1  \n",
      "\n",
      "[2 rows x 88 columns]\n"
     ]
    }
   ],
   "source": [
    "#below tables shows need for a new variable for age group.\n",
    "table_Age = pd.crosstab(titanic_data_cleaned_final['Survived'],titanic_data_cleaned_final['Age'])\n",
    "print table_Age"
   ]
  },
  {
   "cell_type": "code",
   "execution_count": 129,
   "metadata": {
    "collapsed": false
   },
   "outputs": [],
   "source": [
    "#Let us distribute people in bin size of 10.\n",
    "age_labels = ['0-9', '10-19', '20-29', '30-39', '40-49', '50-59', '60-69', '70-79']\n",
    "titanic_data_cleaned_final['age_group'] = pd.cut(titanic_data_cleaned_final.Age, range(0, 81, 10), right=False, labels=age_labels)\n",
    "\n",
    "#ignore warning\n",
    "warnings.filterwarnings('ignore')"
   ]
  },
  {
   "cell_type": "code",
   "execution_count": 130,
   "metadata": {
    "collapsed": false
   },
   "outputs": [
    {
     "data": {
      "text/html": [
       "<div>\n",
       "<table border=\"1\" class=\"dataframe\">\n",
       "  <thead>\n",
       "    <tr style=\"text-align: right;\">\n",
       "      <th></th>\n",
       "      <th>Survived</th>\n",
       "      <th>Pclass</th>\n",
       "      <th>Sex</th>\n",
       "      <th>Age</th>\n",
       "      <th>SibSp</th>\n",
       "      <th>Parch</th>\n",
       "      <th>age_group</th>\n",
       "    </tr>\n",
       "  </thead>\n",
       "  <tbody>\n",
       "    <tr>\n",
       "      <th>0</th>\n",
       "      <td>0</td>\n",
       "      <td>3</td>\n",
       "      <td>male</td>\n",
       "      <td>22.0</td>\n",
       "      <td>1</td>\n",
       "      <td>0</td>\n",
       "      <td>20-29</td>\n",
       "    </tr>\n",
       "    <tr>\n",
       "      <th>1</th>\n",
       "      <td>1</td>\n",
       "      <td>1</td>\n",
       "      <td>female</td>\n",
       "      <td>38.0</td>\n",
       "      <td>1</td>\n",
       "      <td>0</td>\n",
       "      <td>30-39</td>\n",
       "    </tr>\n",
       "    <tr>\n",
       "      <th>2</th>\n",
       "      <td>1</td>\n",
       "      <td>3</td>\n",
       "      <td>female</td>\n",
       "      <td>26.0</td>\n",
       "      <td>0</td>\n",
       "      <td>0</td>\n",
       "      <td>20-29</td>\n",
       "    </tr>\n",
       "    <tr>\n",
       "      <th>3</th>\n",
       "      <td>1</td>\n",
       "      <td>1</td>\n",
       "      <td>female</td>\n",
       "      <td>35.0</td>\n",
       "      <td>1</td>\n",
       "      <td>0</td>\n",
       "      <td>30-39</td>\n",
       "    </tr>\n",
       "    <tr>\n",
       "      <th>4</th>\n",
       "      <td>0</td>\n",
       "      <td>3</td>\n",
       "      <td>male</td>\n",
       "      <td>35.0</td>\n",
       "      <td>0</td>\n",
       "      <td>0</td>\n",
       "      <td>30-39</td>\n",
       "    </tr>\n",
       "  </tbody>\n",
       "</table>\n",
       "</div>"
      ],
      "text/plain": [
       "   Survived  Pclass     Sex   Age  SibSp  Parch age_group\n",
       "0         0       3    male  22.0      1      0     20-29\n",
       "1         1       1  female  38.0      1      0     30-39\n",
       "2         1       3  female  26.0      0      0     20-29\n",
       "3         1       1  female  35.0      1      0     30-39\n",
       "4         0       3    male  35.0      0      0     30-39"
      ]
     },
     "execution_count": 130,
     "metadata": {},
     "output_type": "execute_result"
    }
   ],
   "source": [
    "# Below table shows our new column age_group.\n",
    "titanic_data_cleaned_final.head()"
   ]
  },
  {
   "cell_type": "code",
   "execution_count": 131,
   "metadata": {
    "collapsed": false
   },
   "outputs": [
    {
     "name": "stdout",
     "output_type": "stream",
     "text": [
      "29.6991176471\n"
     ]
    }
   ],
   "source": [
    "#Let us check the mean age of the data.\n",
    "print titanic_data_cleaned_final[\"Age\"].mean()"
   ]
  },
  {
   "cell_type": "code",
   "execution_count": 132,
   "metadata": {
    "collapsed": false
   },
   "outputs": [
    {
     "name": "stdout",
     "output_type": "stream",
     "text": [
      "age_group\n",
      "0-9       62\n",
      "10-19    102\n",
      "20-29    220\n",
      "30-39    167\n",
      "40-49     89\n",
      "50-59     48\n",
      "60-69     19\n",
      "70-79      6\n",
      "Name: Age, dtype: int64\n"
     ]
    }
   ],
   "source": [
    "#People count in each age group.\n",
    "print titanic_data_cleaned_final.groupby('age_group').Age.count()"
   ]
  },
  {
   "cell_type": "code",
   "execution_count": 133,
   "metadata": {
    "collapsed": false
   },
   "outputs": [
    {
     "data": {
      "image/png": "[encoded data removed]",
      "text/plain": [
       "<matplotlib.figure.Figure at 0xd7b84a8>"
      ]
     },
     "metadata": {},
     "output_type": "display_data"
    }
   ],
   "source": [
    "titanic_data_cleaned_final.groupby(['age_group']).size().plot(kind='bar',stacked=True, alpha= 0.3)\n",
    "plt.title(\"Distribution of Age Groups\",fontsize=14)\n",
    "plt.ylabel('Count')\n",
    "plt.xlabel('Age Group');\n",
    "plt.xticks(rotation='horizontal')\n",
    "plt.show()"
   ]
  },
  {
   "cell_type": "markdown",
   "metadata": {},
   "source": [
    "**Plot shows people with age group 20-29 and 30-39 were more in titanic **"
   ]
  },
  {
   "cell_type": "code",
   "execution_count": 134,
   "metadata": {
    "collapsed": false
   },
   "outputs": [
    {
     "data": {
      "text/plain": [
       "age_group\n",
       "0-9      0.612903\n",
       "10-19    0.401961\n",
       "20-29    0.350000\n",
       "30-39    0.437126\n",
       "40-49    0.382022\n",
       "50-59    0.416667\n",
       "60-69    0.315789\n",
       "70-79    0.000000\n",
       "Name: Survived, dtype: float64"
      ]
     },
     "execution_count": 134,
     "metadata": {},
     "output_type": "execute_result"
    }
   ],
   "source": [
    "#let us check the survivors mean per age group\n",
    "titanic_data_cleaned_final.groupby('age_group').Survived.mean()"
   ]
  },
  {
   "cell_type": "code",
   "execution_count": 135,
   "metadata": {
    "collapsed": false
   },
   "outputs": [
    {
     "data": {
      "image/png": "[encoded data removed]",
      "text/plain": [
       "<matplotlib.figure.Figure at 0xccf9c88>"
      ]
     },
     "metadata": {},
     "output_type": "display_data"
    }
   ],
   "source": [
    "titanic_data_cleaned_final.groupby(['age_group']).Survived.mean().plot(kind='bar',stacked=True, alpha= 0.3)\n",
    "plt.title(\"Distribution of Age Groups\",fontsize=14)\n",
    "plt.ylabel('Count')\n",
    "plt.xlabel('Age Group');\n",
    "plt.xticks(rotation='horizontal')\n",
    "plt.show()"
   ]
  },
  {
   "cell_type": "markdown",
   "metadata": {},
   "source": [
    "** We do not see any clear trend in mean survivors of different age group. **"
   ]
  },
  {
   "cell_type": "code",
   "execution_count": 136,
   "metadata": {
    "collapsed": false,
    "scrolled": true
   },
   "outputs": [
    {
     "data": {
      "image/png": "[encoded data removed]",
      "text/plain": [
       "<matplotlib.figure.Figure at 0xd01a400>"
      ]
     },
     "metadata": {},
     "output_type": "display_data"
    }
   ],
   "source": [
    "titanic_data_cleaned_final.groupby(['age_group']).Survived.mean().plot(kind='line',stacked=True, alpha= 0.3)\n",
    "plt.title(\"Distribution of Age Groups\",fontsize=14)\n",
    "plt.ylabel('Count')\n",
    "plt.xlabel('Age Group');\n",
    "plt.show()"
   ]
  },
  {
   "cell_type": "markdown",
   "metadata": {},
   "source": [
    "** Although we do not see a clear trend between age [10-70], But we do notice children[0-9] were given priority in saving lives by elderly people [60-79]. **"
   ]
  },
  {
   "cell_type": "markdown",
   "metadata": {},
   "source": [
    "## Conclusion:-\n",
    "\n",
    "\n",
    "1. We notice that upper class was given priority while saving lives, Our analysis clearly depicts that despite class 3 people were higher in number, they survived less. \n",
    "\n",
    "\n",
    "2. Women were also given priority while saving lives. We see huge difference in the mean of survivability of male and female.\n",
    "\n",
    "\n",
    "3. We do not notice any clear trend in survivability by age group, But we can say that children with age group 0-9 were given priority over elderly people with age group 60-79. \n",
    "\n",
    "## Issues:-\n",
    "1. To remove rows with missing values for consistency in data.\n",
    "2. To make new a variable from age to age group.\n"
   ]
  },
  {
   "cell_type": "markdown",
   "metadata": {},
   "source": [
    "#### References\n",
    "1. https://www.kaggle.com/c/titanic/data\n",
    "2. http://nbviewer.jupyter.org/github/jvns/pandas-cookbook/tree/master/cookbook/"
   ]
  }
 ],
 "metadata": {
  "anaconda-cloud": {},
  "kernelspec": {
   "display_name": "Python [conda root]",
   "language": "python",
   "name": "conda-root-py"
  },
  "language_info": {
   "codemirror_mode": {
    "name": "ipython",
    "version": 2
   },
   "file_extension": ".py",
   "mimetype": "text/x-python",
   "name": "python",
   "nbconvert_exporter": "python",
   "pygments_lexer": "ipython2",
   "version": "2.7.12"
  }
 },
 "nbformat": 4,
 "nbformat_minor": 1
}
